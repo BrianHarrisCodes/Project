{
 "cells": [
  {
   "cell_type": "code",

   "execution_count": 1,

   "execution_count": 23,

   "metadata": {},
   "outputs": [],
   "source": [
    "import pandas as pd\n",
    "import numpy as np\n",
    "from pathlib import Path\n",
    "from datetime import datetime"
   ]
  },
  {
   "cell_type": "code",

   "execution_count": 2,

   "execution_count": 24,

   "metadata": {},
   "outputs": [],
   "source": [
    "def main():\n",
    "   # bring in files and create a large standardized list for dataframes to count and aggregate\n",
    "\n",
    "    source_files = sorted(Path(r'C:\\Users\\brian\\Project\\Project\\Names\\data\\babynames').glob(\"*.txt\"))\n",
    "    dataframes = []\n",
    "    for file in source_files:\n",
    "        df = pd.read_csv(file, header=None, names=[\"name\", \"sex\", \"n\"])\n",
    "        df[\"year\"] = int(file.stem.replace(\"yob\", \"\"))\n",
    "        dataframes.append(df)\n",
    "\n",
    "    df = pd.concat(dataframes)\n",
    "    df2 = df.copy()\n",
    "    df2 = df2.rename(columns={\"n\":\"count\"})\n",
    "    df2.to_csv(\"big_list.csv\", index=False)\n",

    "    names = df2.copy()\n",
    "    for name in names:\n",
    "        names['Decade']= names['year'].apply(lambda year:int(year/10)*10)\n",
    "   \n",
    "    names.to_csv(\"decade_list.csv\", index=False)\n",
    "# group and find the most popular year in name frequency\n",

    "\n",
    "\n",

    "    popular_years = (\n",
    "        df.merge(\n",
    "            df.groupby([\"name\", \"sex\"], as_index=False)[\"n\"].max(),\n",
    "            how=\"inner\",\n",
    "            on=[\"name\", \"sex\", \"n\"],\n",
    "        )\n",
    "        .groupby([\"name\", \"sex\"], as_index=False)[\"year\"]\n",
    "        .max()\n",
    "        .rename(columns={\"year\": \"year_pop\"}, inplace=False)\n",
    "    )\n",
    "# First and Recent year and total sum \n",
    "  \n",
    "    df = (\n",
    "        df.groupby([\"name\", \"sex\"], as_index=False)\n",
    "        .agg({\"year\": [\"min\", \"max\"], \"n\": \"sum\"})\n",
    "        .sort_values(by=[\"sex\", (\"n\", \"sum\"), \"name\"], ascending=[True, False, True])\n",
    "    )\n",
    "\n",
    "    df.columns = df.columns.to_flat_index().map(lambda x: \"_\".join(x).strip(\"_\"))\n",
    "\n",
    "\n",
    "    df = df.merge(\n",
    "        popular_years, how=\"left\", left_on=[\"name\", \"sex\"], right_on=[\"name\", \"sex\"]\n",
    "    )\n",
    "\n",


    "    ## combine all names:\n",
    "    \n",
    "    ## use min / max as appropriate (e.g., popular years, etc.)\n",

    "    df.to_csv(\"all-names.csv\", index=False)\n",
    "\n",
    "# Break out list by gender to separate csv files  \n",
    "    for sex in [\"M\", \"F\"]:\n",

    "        gender = df[df[\"sex\"] == sex]\n",

    "        gender = df[df[\"sex\"] == sex]#.drop(\"sex\", axis=1)\n",

    "        gender.insert(\n",
    "            3,\n",
    "            \"n_percent\",\n",
    "            100 * (gender[\"n_sum\"].cumsum() / gender[\"n_sum\"].sum()).round(3),\n",
    "        )\n",
    "        gender.insert(0, \"rank\", gender[\"n_sum\"].rank(method=\"dense\", ascending=False))\n",
    "        gender.to_csv(f\"{'boys' if sex == 'M' else 'girls'}.csv\", index=False)\n",
    "\n",
    "\n",
    "if __name__ == \"__main__\":\n",
    "    main()\n",
    "\n"
   ]
  }
 ],
 "metadata": {
  "kernelspec": {
   "display_name": "Python 3",
   "language": "python",
   "name": "python3"
  },
  "language_info": {
   "codemirror_mode": {
    "name": "ipython",
    "version": 3
   },
   "file_extension": ".py",
   "mimetype": "text/x-python",
   "name": "python",
   "nbconvert_exporter": "python",
   "pygments_lexer": "ipython3",
   "version": "3.8.3"
  },
  "orig_nbformat": 4
 },
 "nbformat": 4,
 "nbformat_minor": 2
}
