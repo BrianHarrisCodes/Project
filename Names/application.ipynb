{
 "cells": [
  {
   "cell_type": "code",
   "execution_count": 2,
   "metadata": {},
   "outputs": [],
   "source": [
    "import streamlit as st\n",
    "import pandas as pd\n"
   ]
  },
  {
   "cell_type": "code",
   "execution_count": 6,
   "metadata": {},
   "outputs": [],
   "source": [
    "boy_names = pd.read_csv(r'C:\\Users\\brian\\Project\\Project\\Names\\boys.csv')\n",
    "girl_names = pd.read_csv(r'C:\\Users\\brian\\Project\\Project\\Names\\girls.csv')\n",
    "all_names = pd.read_csv(r'C:\\Users\\brian\\Project\\Project\\Names\\all-names.csv')"
   ]
  }
 ],
 "metadata": {
  "kernelspec": {
   "display_name": "Python 3",
   "language": "python",
   "name": "python3"
  },
  "language_info": {
   "codemirror_mode": {
    "name": "ipython",
    "version": 3
   },
   "file_extension": ".py",
   "mimetype": "text/x-python",
   "name": "python",
   "nbconvert_exporter": "python",
   "pygments_lexer": "ipython3",
   "version": "3.8.3"
  },
  "orig_nbformat": 4
 },
 "nbformat": 4,
 "nbformat_minor": 2
}
